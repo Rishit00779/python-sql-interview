{
  "cells": [
    {
      "cell_type": "code",
      "execution_count": null,
      "metadata": {},
      "outputs": [],
      "source": [
        "import pandas as pd\n",
        "import numpy as np"
      ]
    },
    {
      "cell_type": "markdown",
      "metadata": {
        "id": "tm3pB0Y_vucz"
      },
      "source": [
        "## Array"
      ]
    },
    {
      "cell_type": "code",
      "execution_count": null,
      "metadata": {
        "id": "BZqR8dGVvXFz"
      },
      "outputs": [],
      "source": [
        "#Q1. There are two lists:\n",
        "l1 = [1,2,3,5,7,8,9,2]\n",
        "l2 = [2,4,6,7,8,0,2]\n",
        "\n",
        "# Write a Python program to find the unique common elements between two lists."
      ]
    },
    {
      "cell_type": "code",
      "execution_count": null,
      "metadata": {},
      "outputs": [],
      "source": []
    },
    {
      "cell_type": "markdown",
      "metadata": {},
      "source": [
        "Return the most frequent letter(s) in text and how many times it is repeated."
      ]
    },
    {
      "cell_type": "markdown",
      "metadata": {},
      "source": [
        "def most_frequent_letters(input_string):\n",
        "  <!-- Return the most frequent letter in text.\n",
        "  >>> find_most_frequent_letter(\"This is a super long long long string. Please help count me\") -->\n",
        "  \n",
        "\n",
        "\n",
        "most_frequent_letters(\"This is a super long long long string. Please help count me\") -> (['s', 'e', 'l', 'n'], 5) "
      ]
    },
    {
      "cell_type": "code",
      "execution_count": null,
      "metadata": {},
      "outputs": [],
      "source": []
    },
    {
      "cell_type": "markdown",
      "metadata": {},
      "source": [
        "## String Manipulation"
      ]
    },
    {
      "cell_type": "markdown",
      "metadata": {},
      "source": [
        "How would you extract the domain (e.g., \"example.com\") from an email address string?\n",
        "\n",
        "Ex. Input : \"user@example.com\", Output: \"example.com\""
      ]
    },
    {
      "cell_type": "code",
      "execution_count": null,
      "metadata": {},
      "outputs": [],
      "source": []
    },
    {
      "cell_type": "markdown",
      "metadata": {},
      "source": [
        "# Python Functions"
      ]
    },
    {
      "cell_type": "markdown",
      "metadata": {},
      "source": [
        "Write a recursive function to compute the factorial of a given number x."
      ]
    },
    {
      "cell_type": "code",
      "execution_count": null,
      "metadata": {},
      "outputs": [],
      "source": []
    },
    {
      "cell_type": "markdown",
      "metadata": {
        "id": "z1xij-9-vySI"
      },
      "source": [
        "## Data Analysis"
      ]
    },
    {
      "cell_type": "code",
      "execution_count": null,
      "metadata": {
        "colab": {
          "base_uri": "https://localhost:8080/",
          "height": 363
        },
        "id": "x97uhfQkvyI5",
        "outputId": "d1ef9da6-fb3b-48a0-ae98-72a34a8698c5"
      },
      "outputs": [],
      "source": [
        "df = pd.read_csv('https://raw.githubusercontent.com/datasciencedojo/datasets/master/titanic.csv')\n",
        "df.head(10)"
      ]
    },
    {
      "cell_type": "markdown",
      "metadata": {
        "id": "Db75oFnMwVml"
      },
      "source": [
        "Calculate the average age for each sex by -"
      ]
    },
    {
      "cell_type": "markdown",
      "metadata": {
        "id": "oBRkAedBwW_K"
      },
      "source": [
        "a) Group by"
      ]
    },
    {
      "cell_type": "code",
      "execution_count": null,
      "metadata": {
        "colab": {
          "base_uri": "https://localhost:8080/",
          "height": 178
        },
        "id": "tU5EApXI3U-h",
        "outputId": "24190879-fcc7-477f-e61c-80bb7658a8cd"
      },
      "outputs": [],
      "source": []
    },
    {
      "cell_type": "markdown",
      "metadata": {
        "id": "QwCPEj2FwY8C"
      },
      "source": [
        "b) Slicing"
      ]
    },
    {
      "cell_type": "code",
      "execution_count": null,
      "metadata": {
        "colab": {
          "base_uri": "https://localhost:8080/",
          "height": 316
        },
        "id": "pQdfVMfX3UiO",
        "outputId": "d7be8817-bb23-42f9-a98c-60a8af47d2e7"
      },
      "outputs": [],
      "source": []
    },
    {
      "cell_type": "code",
      "execution_count": null,
      "metadata": {
        "id": "xCbb5ZBN45UY"
      },
      "outputs": [],
      "source": []
    },
    {
      "cell_type": "markdown",
      "metadata": {
        "id": "hEB9PH0Qy5fM"
      },
      "source": [
        " Suggest how will you handle null values in column"
      ]
    },
    {
      "cell_type": "markdown",
      "metadata": {
        "id": "UIa6ExoPy7Go"
      },
      "source": [
        "a) Embarked"
      ]
    },
    {
      "cell_type": "code",
      "execution_count": null,
      "metadata": {
        "colab": {
          "base_uri": "https://localhost:8080/",
          "height": 209
        },
        "id": "x0TiyRc63W90",
        "outputId": "5734b337-09cb-4de4-f8a9-abcc68e2b837"
      },
      "outputs": [],
      "source": []
    },
    {
      "cell_type": "markdown",
      "metadata": {
        "id": "Io9O4hHOy-kX"
      },
      "source": [
        "b) Age"
      ]
    },
    {
      "cell_type": "code",
      "execution_count": null,
      "metadata": {
        "colab": {
          "base_uri": "https://localhost:8080/"
        },
        "id": "Phf3x1Hg3X7N",
        "outputId": "2eff1bec-2a4d-41c9-cba5-ac546e400c50"
      },
      "outputs": [],
      "source": []
    },
    {
      "cell_type": "markdown",
      "metadata": {
        "id": "1t9dtKbATYUu"
      },
      "source": [
        "You are given a DataFrame df that contains data on multiple trades for various leads and their performance. The DataFrame includes the following columns:\n",
        "\n",
        "lead_id: The identifier for the lead.\n",
        "\n",
        "trade: The trade identifier.\n",
        "\n",
        "delinquent: An indicator of the trade's performance (1 indicates poor performance, 0 indicates good performance).\n",
        "\n",
        "Q) Catogerize each loan as secured loan or unsecured loan:\n",
        "\n",
        "secured loan:['Two-Wheeler', 'Housing Loan']\n",
        "\n",
        "unsecured loan: ['Personal Loan']"
      ]
    },
    {
      "cell_type": "code",
      "execution_count": null,
      "metadata": {
        "colab": {
          "base_uri": "https://localhost:8080/",
          "height": 206
        },
        "id": "a0fbPQz3TYIy",
        "outputId": "d2386109-6438-4cd1-87e1-2f3a05ff17b8"
      },
      "outputs": [],
      "source": [
        "import pandas as pd\n",
        "\n",
        "data = {\n",
        "    'lead_id': [123, 123, 123, 234, 234, 234, 345, 345, 345],\n",
        "    'loan_type': ['Personal Loan', 'Two-Wheeler', 'Housing Loan', 'Personal Loan', 'Two-Wheeler', 'Housing Loan', 'Personal Loan', 'Two-Wheeler', 'Housing Loan'],\n",
        "    'delinquent': [0, 0, 0, 1, 0, 0, 0, 1, 0]\n",
        "}\n",
        "df1 = pd.DataFrame(data)\n",
        "df1.head()"
      ]
    },
    {
      "cell_type": "code",
      "execution_count": null,
      "metadata": {
        "id": "_73h79qH3ZnV"
      },
      "outputs": [],
      "source": []
    },
    {
      "cell_type": "markdown",
      "metadata": {
        "id": "ajYVf9lKd4sL"
      },
      "source": [
        "A lead is considered \"good\" if all its trades have a delinquency value of 0. If any trade for a lead has a delinquency value of 1, the lead is considered \"bad\".\n",
        "\n",
        "Write a function that prints all unique leads along with their overall profile (\"good\" or \"bad\")."
      ]
    },
    {
      "cell_type": "code",
      "execution_count": null,
      "metadata": {
        "id": "4Tfg3zTU3dAJ"
      },
      "outputs": [],
      "source": []
    },
    {
      "cell_type": "code",
      "execution_count": null,
      "metadata": {
        "id": "gKpqGHni3c3K"
      },
      "outputs": [],
      "source": []
    },
    {
      "cell_type": "code",
      "execution_count": null,
      "metadata": {
        "colab": {
          "base_uri": "https://localhost:8080/",
          "height": 590
        },
        "id": "Ixc1iqMJxUni",
        "outputId": "b5ac274e-b1d4-4073-9417-0f8c766f09d8"
      },
      "outputs": [],
      "source": [
        "destination = 'Data/Retail_Transactions_Dataset.csv'\n",
        "\n",
        "import gdown\n",
        "\n",
        "file_id = '1IJ44ERujPp67Vw3wr6BsxUNet3yqI061'\n",
        "\n",
        "# Construct the download URL\n",
        "download_url = f'https://drive.google.com/uc?id={file_id}'\n",
        "\n",
        "# Download the file\n",
        "gdown.download(download_url, destination, quiet=False)\n",
        "\n",
        "# Load into a DataFrame\n",
        "df = pd.read_csv(destination)\n",
        "df.drop(columns='Total_Items', inplace=True)\n",
        "# Display the first few rows\n",
        "df.head()"
      ]
    },
    {
      "cell_type": "code",
      "execution_count": null,
      "metadata": {},
      "outputs": [],
      "source": []
    },
    {
      "cell_type": "markdown",
      "metadata": {
        "id": "XxsEssyvShQ4"
      },
      "source": [
        "i) Identify the customer with most purchases."
      ]
    },
    {
      "cell_type": "code",
      "execution_count": null,
      "metadata": {
        "id": "ddff-MjLSr3B"
      },
      "outputs": [],
      "source": []
    },
    {
      "cell_type": "markdown",
      "metadata": {
        "id": "O0BGiK61WTVc"
      },
      "source": [
        "\n",
        "ii) Add a new column that calculates the average product price for each \"Transaction_ID\", defined as the total cost divided by the number of items purchased."
      ]
    },
    {
      "cell_type": "code",
      "execution_count": null,
      "metadata": {
        "id": "098N8BijSt7v"
      },
      "outputs": [],
      "source": []
    },
    {
      "cell_type": "markdown",
      "metadata": {
        "id": "qgV8jG73ZTJZ"
      },
      "source": [
        "iii) Display the distribution of different \"Payment_Method\"\n"
      ]
    },
    {
      "cell_type": "code",
      "execution_count": null,
      "metadata": {
        "id": "zEwt9iGP5HSx"
      },
      "outputs": [],
      "source": []
    },
    {
      "cell_type": "markdown",
      "metadata": {},
      "source": [
        "# SQL"
      ]
    },
    {
      "cell_type": "code",
      "execution_count": null,
      "metadata": {},
      "outputs": [],
      "source": [
        "# Importing necessary libraries\n",
        "import sqlite3\n",
        "import pandas as pd\n",
        "\n",
        "# Create a connection to an SQLite database in memory\n",
        "conn = sqlite3.connect(':memory:')\n",
        "\n",
        "# Creating a cursor object to execute SQLite commands\n",
        "cursor = conn.cursor()"
      ]
    },
    {
      "cell_type": "code",
      "execution_count": null,
      "metadata": {},
      "outputs": [],
      "source": [
        "# SQL command to create the Departments table\n",
        "cursor.execute('''\n",
        "CREATE TABLE Departments (\n",
        "    DepartmentID INTEGER PRIMARY KEY,\n",
        "    DepartmentName TEXT NOT NULL\n",
        ");\n",
        "''')\n",
        "\n",
        "# SQL command to create the Employees table\n",
        "cursor.execute('''\n",
        "CREATE TABLE Employees (\n",
        "    EmployeeID INTEGER PRIMARY KEY,\n",
        "    Name TEXT NOT NULL,\n",
        "    DepartmentID INTEGER,\n",
        "    Salary INTEGER,\n",
        "    ManagerID INTEGER,  -- Reference to EmployeeID of the manager\n",
        "    FOREIGN KEY (DepartmentID) REFERENCES Departments(DepartmentID),\n",
        "    FOREIGN KEY (ManagerID) REFERENCES Employees(EmployeeID)\n",
        ");\n",
        "''')\n",
        "\n",
        "# SQL command to create the Projects table\n",
        "cursor.execute('''\n",
        "CREATE TABLE Projects (\n",
        "    ProjectID INTEGER PRIMARY KEY,\n",
        "    ProjectName TEXT NOT NULL,\n",
        "    DepartmentID INTEGER,\n",
        "    Budget INTEGER,\n",
        "    FOREIGN KEY (DepartmentID) REFERENCES Departments(DepartmentID)\n",
        ");\n",
        "''')\n",
        "\n",
        "print(\"Tables created successfully!\")\n",
        "\n",
        "# Inserting data into Departments\n",
        "departments_data = [\n",
        "    (1, 'IT'),\n",
        "    (2, 'HR'),\n",
        "    (3, 'Marketing'),\n",
        "    (4, 'Sales'),\n",
        "    (5, 'Finance'),\n",
        "    (6, 'Research and Development'),\n",
        "    (7, 'Customer Support'),\n",
        "    (8, 'Legal'),\n",
        "    (9, 'Product Development')\n",
        "]\n",
        "\n",
        "# Inserting data into Employees\n",
        "employees_data = [\n",
        "    (1, 'Alice', 1, 90000, None),   # CEO, no manager\n",
        "    (2, 'Bob', 1, 75000, 1),        # Reports to Alice\n",
        "    (3, 'Charlie', 2, 50000, 2),    # Reports to Bob\n",
        "    (4, 'David', 3, 60000, 2),      # Reports to Bob\n",
        "    (5, 'Eve', 4, 70000, 3),        # Reports to Charlie\n",
        "    (6, 'Frank', 5, 85000, 1),      # Reports to Alice\n",
        "    (7, 'Grace', 1, 65000, 2),      # Reports to Bob\n",
        "    (8, 'Heidi', 2, 45000, 3),      # Reports to Charlie\n",
        "    (9, 'Ivan', 3, 67000, 4),       # Reports to David\n",
        "    (10, 'Judy', 4, 73000, 5),      # Reports to Eve\n",
        "    (11, 'Karl', 5, 48000, 6),      # Reports to Frank\n",
        "    (12, 'Lara', 1, 50000, 7),      # Reports to Grace\n",
        "    (13, 'Morgan', 2, 51000, 8),    # Reports to Heidi\n",
        "    (14, 'Nina', 3, 93000, 9),      # Reports to Ivan\n",
        "    (15, 'Oscar', 4, 55000, 10),    # Reports to Judy\n",
        "    (16, 'Paula', 5, 87000, 11),    # Reports to Karl\n",
        "    (17, 'Quinn', 1, 49000, 12),    # Reports to Lara\n",
        "    (18, 'Rachel', 2, 85000, 13),   # Reports to Morgan\n",
        "    (19, 'Steve', 3, 64000, 14),    # Reports to Nina\n",
        "    (20, 'Tina', 4, 46000, 15)      # Reports to Oscar\n",
        "]\n",
        "\n",
        "# Inserting data into Projects\n",
        "projects_data = [\n",
        "    (1, 'Project Alpha', 1, 20000),\n",
        "    (2, 'Project Beta', 2, 15000),\n",
        "    (3, 'Project Gamma', 3, 25000),\n",
        "    (4, 'Project Delta', 4, 30000),\n",
        "    (5, 'Project Epsilon', 5, 45000),\n",
        "    (6, 'Project Zeta', 3, 5000),\n",
        "    (7, 'Project Eta', 6, 40000),\n",
        "    (8, 'Project Theta', 1, 25000),\n",
        "    (9, 'Project Iota', 2, 10000),\n",
        "    (10, 'Project Kappa', 1, 15000),\n",
        "    (11, 'Project Lambda', 7, 22000),\n",
        "    (12, 'Project Mu', 8, 18000),\n",
        "    (13, 'Project Nu', 9, 30000),\n",
        "    (14, 'Project Xi', 6, 33000),\n",
        "    (15, 'Project Omicron', 4, 40000)\n",
        "]\n",
        "\n",
        "# Execute insertion for Departments\n",
        "cursor.executemany('INSERT INTO Departments VALUES (?, ?);', departments_data)\n",
        "\n",
        "# Execute insertion for Employees\n",
        "cursor.executemany('INSERT INTO Employees VALUES (?, ?, ?, ?, ?);', employees_data)\n",
        "\n",
        "# Execute insertion for Projects\n",
        "cursor.executemany('INSERT INTO Projects VALUES (?, ?, ?, ?);', projects_data)\n",
        "\n",
        "conn.commit()  # Committing changes to the database\n",
        "print(\"All dummy data inserted successfully!\")\n"
      ]
    },
    {
      "cell_type": "code",
      "execution_count": null,
      "metadata": {},
      "outputs": [],
      "source": [
        "# SQL command to create the Departments table\n",
        "df = pd.read_sql_query('''\n",
        "SELECT * FROM Departments\n",
        ";\n",
        "''', conn)\n",
        "df.head(3)"
      ]
    },
    {
      "cell_type": "code",
      "execution_count": null,
      "metadata": {},
      "outputs": [],
      "source": [
        "df = pd.read_sql_query('''\n",
        "SELECT * FROM Employees\n",
        ";\n",
        "''', conn)\n",
        "df.head(3)"
      ]
    },
    {
      "cell_type": "code",
      "execution_count": null,
      "metadata": {},
      "outputs": [],
      "source": [
        "df = pd.read_sql_query('''\n",
        "SELECT * FROM Projects\n",
        ";\n",
        "''', conn)\n",
        "df.head(3)"
      ]
    },
    {
      "cell_type": "markdown",
      "metadata": {},
      "source": [
        "| Table        | Key               | Foreign Key in Table | Relationship                        | Example Data               |\n",
        "|--------------|-------------------|----------------------|-------------------------------------|----------------------------|\n",
        "| Departments  | DepartmentID      | Employees            | One Department has many Employees   | ID: 1, Name: IT            |\n",
        "|              |                   | Projects             | One Department has many Projects    | ID: 2, Name: HR            |\n",
        "| Employees    | EmployeeID        | -                    | -                                   | ID: 1, Name: Alice, DepartmentID: 1, Salary: 70000 |\n",
        "|              | DepartmentID      | Departments          | Many Employees belong to one Department | -                          |\n",
        "| Projects     | ProjectID         | -                    | -                                   | ID: 1, Name: Project Alpha, DepartmentID: 1, Budget: 20000 |\n",
        "|              | DepartmentID      | Departments          | Many Projects are handled by one Department | -                          |"
      ]
    },
    {
      "cell_type": "markdown",
      "metadata": {},
      "source": [
        "Find the total salary expenditure for each department."
      ]
    },
    {
      "cell_type": "code",
      "execution_count": null,
      "metadata": {},
      "outputs": [],
      "source": []
    },
    {
      "cell_type": "markdown",
      "metadata": {},
      "source": [
        "List all departments along with the count of employees and the total budget of projects they are handling, ordered by the total budget in descending order."
      ]
    },
    {
      "cell_type": "markdown",
      "metadata": {},
      "source": []
    },
    {
      "cell_type": "markdown",
      "metadata": {},
      "source": [
        "List all projects with their respective department names, where the project budget is more than the average budget of the projects within the department."
      ]
    },
    {
      "cell_type": "code",
      "execution_count": null,
      "metadata": {},
      "outputs": [],
      "source": []
    },
    {
      "cell_type": "markdown",
      "metadata": {},
      "source": [
        "Given the employee table where each employee can have a manager (who is also an employee), write a query to display the hierarchy of employees. Specifically, for a given employee, list the employee's name, their manager's name, and all higher-level managers up to the CEO (an employee with no manager)."
      ]
    },
    {
      "cell_type": "markdown",
      "metadata": {},
      "source": [
        "Input: Judy\n",
        "\n",
        "Output"
      ]
    },
    {
      "cell_type": "markdown",
      "metadata": {},
      "source": [
        "**Employee**\n",
        "\n",
        "Alice\n",
        "\n",
        "Bob\n",
        "\n",
        "Charlie\n",
        "\n",
        "Eve\n",
        "\n",
        "Judy"
      ]
    },
    {
      "cell_type": "markdown",
      "metadata": {},
      "source": [
        "# Transactions"
      ]
    },
    {
      "cell_type": "code",
      "execution_count": null,
      "metadata": {},
      "outputs": [],
      "source": [
        "df = pd.read_excel(\"Data/sql_data.xlsx\", sheet_name=\"transactions\")\n",
        "# create sqlite table from pandas dataframe\n",
        "df.to_sql('transactions', conn, if_exists='replace', index=False)"
      ]
    },
    {
      "cell_type": "code",
      "execution_count": null,
      "metadata": {},
      "outputs": [],
      "source": [
        "df = pd.read_sql_query('''\n",
        "SELECT * FROM transactions\n",
        ";\n",
        "''', conn)\n",
        "df.head(3)"
      ]
    },
    {
      "cell_type": "markdown",
      "metadata": {},
      "source": [
        "\n",
        "Assume you're given a table containing information about Wayfair user transactions for different products. Write a query to calculate the [year-on-year growth rate](https://www.fundera.com/blog/year-over-year-growth) for the total spend of each product, grouping the results by product ID.\n",
        "\n",
        "The output should include the year in ascending order, product ID, current year's spend, previous year's spend and year-on-year growth percentage, rounded to 2 decimal places.\n",
        "\n",
        "**user\\_transactions Table:**\n",
        "\n",
        "| Column Name | Type |\n",
        "| :---- | :---- |\n",
        "| transaction\\_id | integer |\n",
        "| product\\_id | integer |\n",
        "| spend | decimal |\n",
        "| transaction\\_date | datetime |\n",
        "\n",
        "**user\\_transactions Example Input:**\n",
        "\n",
        "| transaction\\_id | product\\_id | spend | transaction\\_date |\n",
        "| :---- | :---- | :---- | :---- |\n",
        "| 1341 | 123424 | 1500.60 | 12/31/2019 12:00:00 |\n",
        "| 1423 | 123424 | 1000.20 | 12/31/2020 12:00:00 |\n",
        "| 1623 | 123424 | 1246.44 | 12/31/2021 12:00:00 |\n",
        "| 1322 | 123424 | 2145.32 | 12/31/2022 12:00:00 |\n",
        "\n",
        "**Example Output:**\n",
        "\n",
        "| year | product\\_id | curr\\_year\\_spend | prev\\_year\\_spend | yoy\\_rate |\n",
        "| :---- | :---- | :---- | :---- | :---- |\n",
        "| 2019 | 123424 | 1500.60 | NULL | NULL |\n",
        "| 2020 | 123424 | 1000.20 | 1500.60 | \\-33.35 |\n",
        "| 2021 | 123424 | 1246.44 | 1000.20 | 24.62 |\n",
        "| 2022 | 123424 | 2145.32 | 1246.44 | 72.12 |\n",
        "\n",
        "**Explanation:**\n",
        "\n",
        "Product ID 123424 is analyzed for multiple years: 2019, 2020, 2021, and 2022\\.\n",
        "\n",
        "* In the year 2020, the current year's spend is 1000.20, and there is no previous year's spend recorded (indicated by an empty cell).  \n",
        "* In the year 2021, the current year's spend is 1246.44, and the previous year's spend is 1000.20.  \n",
        "* In the year 2022, the current year's spend is 2145.32, and the previous year's spend is 1246.44.\n",
        "\n",
        "To calculate the year-on-year growth rate, we compare the current year's spend with the previous year's spend.For instance, the spend grew by 24.62% from 2020 to 2021, indicating a positive growth rate."
      ]
    },
    {
      "cell_type": "code",
      "execution_count": null,
      "metadata": {},
      "outputs": [],
      "source": []
    },
    {
      "cell_type": "markdown",
      "metadata": {},
      "source": [
        "# User Actions"
      ]
    },
    {
      "cell_type": "code",
      "execution_count": null,
      "metadata": {},
      "outputs": [],
      "source": [
        "df = pd.read_excel(\"Data/sql_data.xlsx\", sheet_name=\"user_actions\")\n",
        "# create sqlite table from pandas dataframe\n",
        "df.to_sql('user_actions', conn, if_exists='replace', index=False)"
      ]
    },
    {
      "cell_type": "code",
      "execution_count": null,
      "metadata": {},
      "outputs": [],
      "source": [
        "df = pd.read_sql_query('''\n",
        "SELECT * FROM user_actions\n",
        ";\n",
        "''', conn)\n",
        "df.head(3)"
      ]
    },
    {
      "cell_type": "markdown",
      "metadata": {},
      "source": [
        "\n",
        "\n",
        "Assume you're given a table containing information on Facebook user actions. Write a query to obtain number of monthly active users (MAUs) in July 2022, including the month in numerical format \"1, 2, 3\".\n",
        "\n",
        "Hint:\n",
        "\n",
        "* An active user is defined as a user who has performed actions such as 'sign-in', 'like', or 'comment' in both the current month and the previous month.\n",
        "\n",
        "### **user\\_actions Table:**\n",
        "\n",
        "| Column Name | Type |\n",
        "| :---- | :---- |\n",
        "| user\\_id | integer |\n",
        "| event\\_id | integer |\n",
        "| event\\_type | string (\"sign-in, \"like\", \"comment\") |\n",
        "| event\\_date | datetime |\n",
        "\n",
        "### **user\\_actionsExample Input:**\n",
        "\n",
        "| user\\_id | event\\_id | event\\_type | event\\_date |\n",
        "| :---- | :---- | :---- | :---- |\n",
        "| 445 | 7765 | sign-in | 05/31/2022 12:00:00 |\n",
        "| 742 | 6458 | sign-in | 06/03/2022 12:00:00 |\n",
        "| 445 | 3634 | like | 06/05/2022 12:00:00 |\n",
        "| 742 | 1374 | comment | 06/05/2022 12:00:00 |\n",
        "| 648 | 3124 | like | 06/18/2022 12:00:00 |\n",
        "\n",
        "### **Example Output for June 2022:**\n",
        "\n",
        "| month | monthly\\_active\\_users |\n",
        "| :---- | :---- |\n",
        "| 6 | 1 |\n",
        "\n",
        "### **Example**\n",
        "\n",
        "In June 2022, there was only one monthly active user (MAU) with the user\\_id 445\\.\n",
        "\n",
        "Please note that the output provided is for June 2022 as the user\\_actions table only contains event dates for that month. You should adapt the solution accordingly for July 2022\\."
      ]
    },
    {
      "cell_type": "code",
      "execution_count": null,
      "metadata": {},
      "outputs": [],
      "source": []
    }
  ],
  "metadata": {
    "colab": {
      "provenance": []
    },
    "kernelspec": {
      "display_name": "Python 3",
      "name": "python3"
    },
    "language_info": {
      "codemirror_mode": {
        "name": "ipython",
        "version": 3
      },
      "file_extension": ".py",
      "mimetype": "text/x-python",
      "name": "python",
      "nbconvert_exporter": "python",
      "pygments_lexer": "ipython3",
      "version": "3.12.4"
    }
  },
  "nbformat": 4,
  "nbformat_minor": 0
}
