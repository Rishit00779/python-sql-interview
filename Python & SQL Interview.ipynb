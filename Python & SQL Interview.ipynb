{
  "cells": [
    {
      "cell_type": "markdown",
      "metadata": {
        "id": "tm3pB0Y_vucz"
      },
      "source": [
        "## Question1"
      ]
    },
    {
      "cell_type": "code",
      "execution_count": null,
      "metadata": {
        "id": "BZqR8dGVvXFz"
      },
      "outputs": [],
      "source": [
        "#Q1. There are two lists:\n",
        "l1 = [1,2,3,5,7,8,9,2]\n",
        "l2 = [2,4,6,7,8,0,2]\n",
        "\n",
        "# Write a Python program to find the unique common elements between two lists."
      ]
    },
    {
      "cell_type": "code",
      "execution_count": null,
      "metadata": {
        "id": "ShdbVQy53J06"
      },
      "outputs": [],
      "source": [
        "\n"
      ]
    },
    {
      "cell_type": "markdown",
      "metadata": {
        "id": "z1xij-9-vySI"
      },
      "source": [
        "## Question2"
      ]
    },
    {
      "cell_type": "markdown",
      "metadata": {
        "id": "m320asOqO6RS"
      },
      "source": []
    },
    {
      "cell_type": "code",
      "execution_count": null,
      "metadata": {
        "colab": {
          "base_uri": "https://localhost:8080/",
          "height": 363
        },
        "id": "x97uhfQkvyI5",
        "outputId": "d1ef9da6-fb3b-48a0-ae98-72a34a8698c5"
      },
      "outputs": [],
      "source": [
        "import pandas as pd\n",
        "import numpy as np\n",
        "df = pd.read_csv('https://raw.githubusercontent.com/datasciencedojo/datasets/master/titanic.csv')\n",
        "df.head(10)"
      ]
    },
    {
      "cell_type": "markdown",
      "metadata": {
        "id": "Db75oFnMwVml"
      },
      "source": [
        "Calculate the average age for each sex by -"
      ]
    },
    {
      "cell_type": "markdown",
      "metadata": {
        "id": "oBRkAedBwW_K"
      },
      "source": [
        "a) Group by"
      ]
    },
    {
      "cell_type": "code",
      "execution_count": null,
      "metadata": {
        "colab": {
          "base_uri": "https://localhost:8080/",
          "height": 178
        },
        "id": "tU5EApXI3U-h",
        "outputId": "24190879-fcc7-477f-e61c-80bb7658a8cd"
      },
      "outputs": [],
      "source": []
    },
    {
      "cell_type": "markdown",
      "metadata": {
        "id": "QwCPEj2FwY8C"
      },
      "source": [
        "b) Slicing"
      ]
    },
    {
      "cell_type": "code",
      "execution_count": null,
      "metadata": {
        "colab": {
          "base_uri": "https://localhost:8080/",
          "height": 316
        },
        "id": "pQdfVMfX3UiO",
        "outputId": "d7be8817-bb23-42f9-a98c-60a8af47d2e7"
      },
      "outputs": [],
      "source": []
    },
    {
      "cell_type": "code",
      "execution_count": null,
      "metadata": {
        "id": "xCbb5ZBN45UY"
      },
      "outputs": [],
      "source": []
    },
    {
      "cell_type": "markdown",
      "metadata": {
        "id": "MkSetxZGyrq4"
      },
      "source": [
        "## Question3"
      ]
    },
    {
      "cell_type": "markdown",
      "metadata": {
        "id": "hEB9PH0Qy5fM"
      },
      "source": [
        " Suggest how will you handle null values in column"
      ]
    },
    {
      "cell_type": "markdown",
      "metadata": {
        "id": "UIa6ExoPy7Go"
      },
      "source": [
        "a) Embarked"
      ]
    },
    {
      "cell_type": "code",
      "execution_count": null,
      "metadata": {
        "colab": {
          "base_uri": "https://localhost:8080/",
          "height": 209
        },
        "id": "x0TiyRc63W90",
        "outputId": "5734b337-09cb-4de4-f8a9-abcc68e2b837"
      },
      "outputs": [],
      "source": []
    },
    {
      "cell_type": "markdown",
      "metadata": {
        "id": "Io9O4hHOy-kX"
      },
      "source": [
        "b) Age"
      ]
    },
    {
      "cell_type": "code",
      "execution_count": null,
      "metadata": {
        "colab": {
          "base_uri": "https://localhost:8080/"
        },
        "id": "Phf3x1Hg3X7N",
        "outputId": "2eff1bec-2a4d-41c9-cba5-ac546e400c50"
      },
      "outputs": [],
      "source": []
    },
    {
      "cell_type": "markdown",
      "metadata": {
        "id": "I0qcnMOVRH0w"
      },
      "source": [
        "# Question4"
      ]
    },
    {
      "cell_type": "markdown",
      "metadata": {
        "id": "1t9dtKbATYUu"
      },
      "source": [
        "You are given a DataFrame df that contains data on multiple trades for various leads and their performance. The DataFrame includes the following columns:\n",
        "\n",
        "lead_id: The identifier for the lead.\n",
        "\n",
        "trade: The trade identifier.\n",
        "\n",
        "delinquent: An indicator of the trade's performance (1 indicates poor performance, 0 indicates good performance).\n",
        "\n",
        "Q) Catogerize each loan as secured loan or unsecured loan:\n",
        "\n",
        "secured loan:['Two-Wheeler', 'Housing Loan']\n",
        "\n",
        "unsecured loan: ['Personal Loan']"
      ]
    },
    {
      "cell_type": "code",
      "execution_count": null,
      "metadata": {
        "colab": {
          "base_uri": "https://localhost:8080/",
          "height": 206
        },
        "id": "a0fbPQz3TYIy",
        "outputId": "d2386109-6438-4cd1-87e1-2f3a05ff17b8"
      },
      "outputs": [],
      "source": [
        "import pandas as pd\n",
        "\n",
        "data = {\n",
        "    'lead_id': [123, 123, 123, 234, 234, 234, 345, 345, 345],\n",
        "    'loan_type': ['Personal Loan', 'Two-Wheeler', 'Housing Loan', 'Personal Loan', 'Two-Wheeler', 'Housing Loan', 'Personal Loan', 'Two-Wheeler', 'Housing Loan'],\n",
        "    'delinquent': [0, 0, 0, 1, 0, 0, 0, 1, 0]\n",
        "}\n",
        "df1 = pd.DataFrame(data)\n",
        "df1.head()"
      ]
    },
    {
      "cell_type": "code",
      "execution_count": null,
      "metadata": {
        "id": "_73h79qH3ZnV"
      },
      "outputs": [],
      "source": []
    },
    {
      "cell_type": "markdown",
      "metadata": {
        "id": "ajYVf9lKd4sL"
      },
      "source": [
        "A lead is considered \"good\" if all its trades have a delinquency value of 0. If any trade for a lead has a delinquency value of 1, the lead is considered \"bad\".\n",
        "\n",
        "Write a function that prints all unique leads along with their overall profile (\"good\" or \"bad\")."
      ]
    },
    {
      "cell_type": "code",
      "execution_count": null,
      "metadata": {
        "id": "4Tfg3zTU3dAJ"
      },
      "outputs": [],
      "source": []
    },
    {
      "cell_type": "code",
      "execution_count": null,
      "metadata": {
        "id": "gKpqGHni3c3K"
      },
      "outputs": [],
      "source": []
    },
    {
      "cell_type": "markdown",
      "metadata": {
        "id": "ZLZpnEmkPbnB"
      },
      "source": [
        "# Question5"
      ]
    },
    {
      "cell_type": "code",
      "execution_count": null,
      "metadata": {
        "id": "hJUmfFDx71bv"
      },
      "outputs": [],
      "source": []
    },
    {
      "cell_type": "markdown",
      "metadata": {
        "id": "jDAx70PUPatH"
      },
      "source": [
        "Write a recursive function to compute the factorial of a given number x."
      ]
    },
    {
      "cell_type": "code",
      "execution_count": null,
      "metadata": {
        "id": "G1WpS4XhPrgh"
      },
      "outputs": [],
      "source": []
    },
    {
      "cell_type": "markdown",
      "metadata": {
        "id": "qFhE2qMtXs5G"
      },
      "source": [
        "# Question6"
      ]
    },
    {
      "cell_type": "markdown",
      "metadata": {},
      "source": [
        "Return the most frequent letter(s) in text and how many times it is repeated."
      ]
    },
    {
      "cell_type": "markdown",
      "metadata": {
        "id": "XYdF-6OOXreM"
      },
      "source": [
        "def most_frequent_letters(input_string):\n",
        "  <!-- Return the most frequent letter in text.\n",
        "  >>> find_most_frequent_letter(\"This is a super long long long string. Please help count me\") -->\n",
        "  \n",
        "\n",
        "\n",
        "most_frequent_letters(\"This is a super long long long string. Please help count me\") -> (['s', 'e', 'l', 'n'], 5) "
      ]
    },
    {
      "cell_type": "code",
      "execution_count": null,
      "metadata": {
        "id": "aJLK5gYf499g"
      },
      "outputs": [],
      "source": []
    },
    {
      "cell_type": "markdown",
      "metadata": {
        "id": "J7tgCxrtScTc"
      },
      "source": [
        "#Question7"
      ]
    },
    {
      "cell_type": "code",
      "execution_count": null,
      "metadata": {
        "colab": {
          "base_uri": "https://localhost:8080/",
          "height": 590
        },
        "id": "Ixc1iqMJxUni",
        "outputId": "b5ac274e-b1d4-4073-9417-0f8c766f09d8"
      },
      "outputs": [],
      "source": [
        "destination = 'Data/Retail_Transactions_Dataset.csv'\n",
        "\n",
        "import gdown\n",
        "\n",
        "file_id = '1IJ44ERujPp67Vw3wr6BsxUNet3yqI061'\n",
        "\n",
        "# Construct the download URL\n",
        "download_url = f'https://drive.google.com/uc?id={file_id}'\n",
        "\n",
        "# Download the file\n",
        "gdown.download(download_url, destination, quiet=False)\n",
        "\n",
        "# Load into a DataFrame\n",
        "df = pd.read_csv(destination)\n",
        "df.drop(columns='Total_Items', inplace=True)\n",
        "# Display the first few rows\n",
        "df.head()"
      ]
    },
    {
      "cell_type": "code",
      "execution_count": null,
      "metadata": {},
      "outputs": [],
      "source": []
    },
    {
      "cell_type": "markdown",
      "metadata": {
        "id": "XxsEssyvShQ4"
      },
      "source": [
        "i) Identify the customer with most purchases."
      ]
    },
    {
      "cell_type": "code",
      "execution_count": null,
      "metadata": {
        "id": "ddff-MjLSr3B"
      },
      "outputs": [],
      "source": []
    },
    {
      "cell_type": "markdown",
      "metadata": {
        "id": "O0BGiK61WTVc"
      },
      "source": [
        "\n",
        "ii) Add a new column that calculates the average product price for each \"Transaction_ID\", defined as the total cost divided by the number of items purchased."
      ]
    },
    {
      "cell_type": "code",
      "execution_count": null,
      "metadata": {
        "id": "098N8BijSt7v"
      },
      "outputs": [],
      "source": []
    },
    {
      "cell_type": "markdown",
      "metadata": {
        "id": "qgV8jG73ZTJZ"
      },
      "source": [
        "iii) Display the distribution of different \"Payment_Method\"\n"
      ]
    },
    {
      "cell_type": "code",
      "execution_count": null,
      "metadata": {
        "id": "zEwt9iGP5HSx"
      },
      "outputs": [],
      "source": []
    },
    {
      "cell_type": "code",
      "execution_count": null,
      "metadata": {},
      "outputs": [],
      "source": []
    }
  ],
  "metadata": {
    "colab": {
      "provenance": []
    },
    "kernelspec": {
      "display_name": "Python 3",
      "name": "python3"
    },
    "language_info": {
      "codemirror_mode": {
        "name": "ipython",
        "version": 3
      },
      "file_extension": ".py",
      "mimetype": "text/x-python",
      "name": "python",
      "nbconvert_exporter": "python",
      "pygments_lexer": "ipython3",
      "version": "3.12.4"
    }
  },
  "nbformat": 4,
  "nbformat_minor": 0
}
